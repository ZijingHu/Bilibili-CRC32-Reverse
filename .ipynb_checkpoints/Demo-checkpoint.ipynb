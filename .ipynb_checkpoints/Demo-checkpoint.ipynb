{
 "cells": [
  {
   "cell_type": "code",
   "execution_count": 1,
   "metadata": {},
   "outputs": [],
   "source": [
    "from bilibili.scraper.danmaku import *\n",
    "from bilibili.crc32.crc32_reverse import *"
   ]
  },
  {
   "cell_type": "code",
   "execution_count": 2,
   "metadata": {},
   "outputs": [
    {
     "name": "stdout",
     "output_type": "stream",
     "text": [
      "Username: ········\n",
      "Password: ········\n",
      "Press ENTER if logging in successfully.\n"
     ]
    }
   ],
   "source": [
    "login()"
   ]
  },
  {
   "cell_type": "code",
   "execution_count": 8,
   "metadata": {},
   "outputs": [
    {
     "data": {
      "text/html": [
       "<div>\n",
       "<style scoped>\n",
       "    .dataframe tbody tr th:only-of-type {\n",
       "        vertical-align: middle;\n",
       "    }\n",
       "\n",
       "    .dataframe tbody tr th {\n",
       "        vertical-align: top;\n",
       "    }\n",
       "\n",
       "    .dataframe thead th {\n",
       "        text-align: right;\n",
       "    }\n",
       "</style>\n",
       "<table border=\"1\" class=\"dataframe\">\n",
       "  <thead>\n",
       "    <tr style=\"text-align: right;\">\n",
       "      <th></th>\n",
       "      <th>Sender</th>\n",
       "      <th>DmContent</th>\n",
       "      <th>AppearTime</th>\n",
       "      <th>SendTime</th>\n",
       "      <th>FontColor</th>\n",
       "      <th>DmType</th>\n",
       "    </tr>\n",
       "  </thead>\n",
       "  <tbody>\n",
       "    <tr>\n",
       "      <th>0</th>\n",
       "      <td>fb89e81a</td>\n",
       "      <td>吓坏了～</td>\n",
       "      <td>46.50800</td>\n",
       "      <td>1594569286</td>\n",
       "      <td>16777215</td>\n",
       "      <td>1</td>\n",
       "    </tr>\n",
       "    <tr>\n",
       "      <th>1</th>\n",
       "      <td>8c015fd9</td>\n",
       "      <td>下次一定</td>\n",
       "      <td>240.45800</td>\n",
       "      <td>1594569279</td>\n",
       "      <td>16777215</td>\n",
       "      <td>1</td>\n",
       "    </tr>\n",
       "    <tr>\n",
       "      <th>2</th>\n",
       "      <td>8c015fd9</td>\n",
       "      <td>？？？？？？？</td>\n",
       "      <td>192.82100</td>\n",
       "      <td>1594569231</td>\n",
       "      <td>16777215</td>\n",
       "      <td>1</td>\n",
       "    </tr>\n",
       "    <tr>\n",
       "      <th>3</th>\n",
       "      <td>8c015fd9</td>\n",
       "      <td>？？？？？</td>\n",
       "      <td>162.32500</td>\n",
       "      <td>1594569201</td>\n",
       "      <td>16777215</td>\n",
       "      <td>1</td>\n",
       "    </tr>\n",
       "    <tr>\n",
       "      <th>4</th>\n",
       "      <td>8c015fd9</td>\n",
       "      <td>哈哈哈哈哈哈啊哈哈</td>\n",
       "      <td>109.07800</td>\n",
       "      <td>1594569148</td>\n",
       "      <td>16777215</td>\n",
       "      <td>1</td>\n",
       "    </tr>\n",
       "    <tr>\n",
       "      <th>...</th>\n",
       "      <td>...</td>\n",
       "      <td>...</td>\n",
       "      <td>...</td>\n",
       "      <td>...</td>\n",
       "      <td>...</td>\n",
       "      <td>...</td>\n",
       "    </tr>\n",
       "    <tr>\n",
       "      <th>995</th>\n",
       "      <td>9f3fb51c</td>\n",
       "      <td>？？？</td>\n",
       "      <td>163.64500</td>\n",
       "      <td>1594437178</td>\n",
       "      <td>16777215</td>\n",
       "      <td>1</td>\n",
       "    </tr>\n",
       "    <tr>\n",
       "      <th>996</th>\n",
       "      <td>9f3fb51c</td>\n",
       "      <td>哈哈哈哈哈哈哈</td>\n",
       "      <td>124.62200</td>\n",
       "      <td>1594437139</td>\n",
       "      <td>16777215</td>\n",
       "      <td>1</td>\n",
       "    </tr>\n",
       "    <tr>\n",
       "      <th>997</th>\n",
       "      <td>9f3fb51c</td>\n",
       "      <td>哈哈哈哈哈哈哈哈哈哈</td>\n",
       "      <td>81.05800</td>\n",
       "      <td>1594437096</td>\n",
       "      <td>16777215</td>\n",
       "      <td>1</td>\n",
       "    </tr>\n",
       "    <tr>\n",
       "      <th>998</th>\n",
       "      <td>9f3fb51c</td>\n",
       "      <td>哈哈哈哈哈哈哈哈哈哈哈</td>\n",
       "      <td>50.87700</td>\n",
       "      <td>1594437066</td>\n",
       "      <td>16777215</td>\n",
       "      <td>1</td>\n",
       "    </tr>\n",
       "    <tr>\n",
       "      <th>999</th>\n",
       "      <td>cc7a427d</td>\n",
       "      <td>？？？？？？？</td>\n",
       "      <td>194.72900</td>\n",
       "      <td>1594436868</td>\n",
       "      <td>16777215</td>\n",
       "      <td>1</td>\n",
       "    </tr>\n",
       "  </tbody>\n",
       "</table>\n",
       "<p>1000 rows × 6 columns</p>\n",
       "</div>"
      ],
      "text/plain": [
       "       Sender    DmContent AppearTime    SendTime FontColor DmType\n",
       "0    fb89e81a         吓坏了～   46.50800  1594569286  16777215      1\n",
       "1    8c015fd9         下次一定  240.45800  1594569279  16777215      1\n",
       "2    8c015fd9      ？？？？？？？  192.82100  1594569231  16777215      1\n",
       "3    8c015fd9        ？？？？？  162.32500  1594569201  16777215      1\n",
       "4    8c015fd9    哈哈哈哈哈哈啊哈哈  109.07800  1594569148  16777215      1\n",
       "..        ...          ...        ...         ...       ...    ...\n",
       "995  9f3fb51c          ？？？  163.64500  1594437178  16777215      1\n",
       "996  9f3fb51c      哈哈哈哈哈哈哈  124.62200  1594437139  16777215      1\n",
       "997  9f3fb51c   哈哈哈哈哈哈哈哈哈哈   81.05800  1594437096  16777215      1\n",
       "998  9f3fb51c  哈哈哈哈哈哈哈哈哈哈哈   50.87700  1594437066  16777215      1\n",
       "999  cc7a427d      ？？？？？？？  194.72900  1594436868  16777215      1\n",
       "\n",
       "[1000 rows x 6 columns]"
      ]
     },
     "execution_count": 8,
     "metadata": {},
     "output_type": "execute_result"
    }
   ],
   "source": [
    "cid = get_cid_via_bv('BV1Yi4y1V7TN')\n",
    "df = get_danmaku(cid, '2020-07-12')\n",
    "df"
   ]
  },
  {
   "cell_type": "code",
   "execution_count": 12,
   "metadata": {},
   "outputs": [
    {
     "data": {
      "text/plain": [
       "['319445280']"
      ]
     },
     "execution_count": 12,
     "metadata": {},
     "output_type": "execute_result"
    }
   ],
   "source": [
    "find_uid('9f3fb51c')"
   ]
  }
 ],
 "metadata": {
  "kernelspec": {
   "display_name": "Python 3",
   "language": "python",
   "name": "python3"
  },
  "language_info": {
   "codemirror_mode": {
    "name": "ipython",
    "version": 3
   },
   "file_extension": ".py",
   "mimetype": "text/x-python",
   "name": "python",
   "nbconvert_exporter": "python",
   "pygments_lexer": "ipython3",
   "version": "3.7.4"
  }
 },
 "nbformat": 4,
 "nbformat_minor": 2
}
